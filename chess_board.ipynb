{
 "cells": [
  {
   "cell_type": "code",
   "execution_count": 74,
   "source": [
    "import numpy as np\n",
    "import matplotlib.pyplot as plt\n",
    "\n",
    "class ChessBoard():\n",
    "    def __init__(self):\n",
    "        self.grid = np.zeros((8,8,3), np.float64)\n",
    "        # self.black = (0,0,0)\n",
    "        # self.white = (1,1,1)\n",
    "        # self.blue = (0,1,1)\n",
    "        # self.red = (1,2,0)\n",
    "        div = 1\n",
    "        for i in range(8):\n",
    "            for j in range(8):\n",
    "                div = 0 if div else 1\n",
    "                if i % 2 == div and j % 2 == div:\n",
    "                    self.grid[i][j] = np.array((1,1,1))\n",
    "\n",
    "    def add_red(self, x, y):\n",
    "        self.red_row = x\n",
    "        self.red_column = y\n",
    "        self.grid[x][y] = (1,2,0)\n",
    "        self.render()\n",
    "\n",
    "    def add_blue(self, x, y):\n",
    "        self.blue_row = x\n",
    "        self.blue_column = y\n",
    "        self.grid[x][y] = (0,1,1)\n",
    "        self.render()\n",
    "\n",
    "    def render(self):\n",
    "        plt.imshow(self.grid)\n",
    "\n",
    "    def is_under_attack(self):\n",
    "        if self.red_row == self.blue_row or self.red_column == self.blue_column:\n",
    "            return True\n",
    "        elif abs(self.blue_row - self.red_row) == abs(self.blue_column - self.red_column):\n",
    "            return True\n",
    "        else:\n",
    "            return False"
   ],
   "outputs": [],
   "metadata": {}
  },
  {
   "cell_type": "code",
   "execution_count": null,
   "source": [
    "def queens_on_same_row():\n",
    "    chess_board = ChessBoard()\n",
    "    chess_board.add_red(0,1)\n",
    "    chess_board.add_blue(0,6)\n",
    "    expected = True\n",
    "    actual = chess_board.is_under_attack()\n",
    "    assert actual == expected\n",
    "\n",
    "queens_on_same_row()"
   ],
   "outputs": [],
   "metadata": {}
  },
  {
   "cell_type": "code",
   "execution_count": null,
   "source": [
    "def queens_on_same_column():\n",
    "    chess_board = ChessBoard()\n",
    "    chess_board.add_red(1,0)\n",
    "    chess_board.add_blue(6,0)\n",
    "    expected = True\n",
    "    actual = chess_board.is_under_attack()\n",
    "    assert actual == expected\n",
    "\n",
    "queens_on_same_column()"
   ],
   "outputs": [],
   "metadata": {}
  },
  {
   "cell_type": "code",
   "execution_count": null,
   "source": [
    "def queens_on_same_diagonal():\n",
    "    chess_board = ChessBoard()\n",
    "    chess_board.add_red(1,1)\n",
    "    chess_board.add_blue(6,6)\n",
    "    expected = True\n",
    "    actual = chess_board.is_under_attack()\n",
    "    assert actual == expected\n",
    "\n",
    "queens_on_same_diagonal()"
   ],
   "outputs": [],
   "metadata": {}
  },
  {
   "cell_type": "code",
   "execution_count": 82,
   "source": [
    "def queens_with_any_other_coordinates():\n",
    "    chess_board = ChessBoard()\n",
    "    chess_board.add_red(1,5)\n",
    "    chess_board.add_blue(3,1)\n",
    "    expected = False\n",
    "    actual = chess_board.is_under_attack()\n",
    "    assert actual == expected\n",
    "\n",
    "queens_with_any_other_coordinates()"
}
