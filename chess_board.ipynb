{
 "cells": [
  {
   "cell_type": "code",
   "execution_count": 74,
   "source": [
    "import numpy as np\n",
    "import matplotlib.pyplot as plt\n",
    "\n",
    "class ChessBoard():\n",
    "    def __init__(self):\n",
    "        self.grid = np.zeros((8,8,3), np.float64)\n",
    "        # self.black = (0,0,0)\n",
    "        # self.white = (1,1,1)\n",
    "        # self.blue = (0,1,1)\n",
    "        # self.red = (1,2,0)\n",
    "        div = 1\n",
    "        for i in range(8):\n",
    "            for j in range(8):\n",
    "                div = 0 if div else 1\n",
    "                if i % 2 == div and j % 2 == div:\n",
    "                    self.grid[i][j] = np.array((1,1,1))\n",
    "\n",
    "    def add_red(self, x, y):\n",
    "        self.red_row = x\n",
    "        self.red_column = y\n",
    "        self.grid[x][y] = (1,2,0)\n",
    "        self.render()\n",
    "\n",
    "    def add_blue(self, x, y):\n",
    "        self.blue_row = x\n",
    "        self.blue_column = y\n",
    "        self.grid[x][y] = (0,1,1)\n",
    "        self.render()\n",
    "\n",
    "    def render(self):\n",
    "        plt.imshow(self.grid)\n",
    "\n",
    "    def is_under_attack(self):\n",
    "        if self.red_row == self.blue_row or self.red_column == self.blue_column:\n",
    "            return True\n",
    "        elif abs(self.blue_row - self.red_row) == abs(self.blue_column - self.red_column):\n",
    "            return True\n",
    "        else:\n",
    "            return False"
   ],
   "outputs": [],
   "metadata": {}
  },
  {
   "cell_type": "code",
   "execution_count": null,
   "source": [
    "def queens_on_same_row():\n",
    "    chess_board = ChessBoard()\n",
    "    chess_board.add_red(0,1)\n",
    "    chess_board.add_blue(0,6)\n",
    "    expected = True\n",
    "    actual = chess_board.is_under_attack()\n",
    "    assert actual == expected\n",
    "\n",
    "queens_on_same_row()"
   ],
   "outputs": [],
   "metadata": {}
  },
  {
   "cell_type": "code",
   "execution_count": null,
   "source": [
    "def queens_on_same_column():\n",
    "    chess_board = ChessBoard()\n",
    "    chess_board.add_red(1,0)\n",
    "    chess_board.add_blue(6,0)\n",
    "    expected = True\n",
    "    actual = chess_board.is_under_attack()\n",
    "    assert actual == expected\n",
    "\n",
    "queens_on_same_column()"
   ],
   "outputs": [],
   "metadata": {}
  },
  {
   "cell_type": "code",
   "execution_count": null,
   "source": [
    "def queens_on_same_diagonal():\n",
    "    chess_board = ChessBoard()\n",
    "    chess_board.add_red(1,1)\n",
    "    chess_board.add_blue(6,6)\n",
    "    expected = True\n",
    "    actual = chess_board.is_under_attack()\n",
    "    assert actual == expected\n",
    "\n",
    "queens_on_same_diagonal()"
   ],
   "outputs": [],
   "metadata": {}
  },
  {
   "cell_type": "code",
   "execution_count": 82,
   "source": [
    "def queens_with_any_other_coordinates():\n",
    "    chess_board = ChessBoard()\n",
    "    chess_board.add_red(1,5)\n",
    "    chess_board.add_blue(6,2)\n",
    "    expected = False\n",
    "    actual = chess_board.is_under_attack()\n",
    "    assert actual == expected\n",
    "\n",
    "queens_with_any_other_coordinates()"
   ],
   "outputs": [
    {
     "output_type": "stream",
     "name": "stderr",
     "text": [
      "Clipping input data to the valid range for imshow with RGB data ([0..1] for floats or [0..255] for integers).\n",
      "Clipping input data to the valid range for imshow with RGB data ([0..1] for floats or [0..255] for integers).\n"
     ]
    },
    {
     "output_type": "error",
     "ename": "AssertionError",
     "evalue": "",
     "traceback": [
      "\u001b[0;31m---------------------------------------------------------------------------\u001b[0m",
      "\u001b[0;31mAssertionError\u001b[0m                            Traceback (most recent call last)",
      "\u001b[0;32m/tmp/ipykernel_2408/3373866654.py\u001b[0m in \u001b[0;36m<module>\u001b[0;34m\u001b[0m\n\u001b[1;32m      7\u001b[0m     \u001b[0;32massert\u001b[0m \u001b[0mactual\u001b[0m \u001b[0;34m==\u001b[0m \u001b[0mexpected\u001b[0m\u001b[0;34m\u001b[0m\u001b[0;34m\u001b[0m\u001b[0m\n\u001b[1;32m      8\u001b[0m \u001b[0;34m\u001b[0m\u001b[0m\n\u001b[0;32m----> 9\u001b[0;31m \u001b[0mqueens_with_any_other_coordinates\u001b[0m\u001b[0;34m(\u001b[0m\u001b[0;34m)\u001b[0m\u001b[0;34m\u001b[0m\u001b[0;34m\u001b[0m\u001b[0m\n\u001b[0m",
      "\u001b[0;32m/tmp/ipykernel_2408/3373866654.py\u001b[0m in \u001b[0;36mqueens_with_any_other_coordinates\u001b[0;34m()\u001b[0m\n\u001b[1;32m      5\u001b[0m     \u001b[0mexpected\u001b[0m \u001b[0;34m=\u001b[0m \u001b[0;32mFalse\u001b[0m\u001b[0;34m\u001b[0m\u001b[0;34m\u001b[0m\u001b[0m\n\u001b[1;32m      6\u001b[0m     \u001b[0mactual\u001b[0m \u001b[0;34m=\u001b[0m \u001b[0mchess_board\u001b[0m\u001b[0;34m.\u001b[0m\u001b[0mis_under_attack\u001b[0m\u001b[0;34m(\u001b[0m\u001b[0;34m)\u001b[0m\u001b[0;34m\u001b[0m\u001b[0;34m\u001b[0m\u001b[0m\n\u001b[0;32m----> 7\u001b[0;31m     \u001b[0;32massert\u001b[0m \u001b[0mactual\u001b[0m \u001b[0;34m==\u001b[0m \u001b[0mexpected\u001b[0m\u001b[0;34m\u001b[0m\u001b[0;34m\u001b[0m\u001b[0m\n\u001b[0m\u001b[1;32m      8\u001b[0m \u001b[0;34m\u001b[0m\u001b[0m\n\u001b[1;32m      9\u001b[0m \u001b[0mqueens_with_any_other_coordinates\u001b[0m\u001b[0;34m(\u001b[0m\u001b[0;34m)\u001b[0m\u001b[0;34m\u001b[0m\u001b[0;34m\u001b[0m\u001b[0m\n",
      "\u001b[0;31mAssertionError\u001b[0m: "
     ]
    },
    {
     "output_type": "display_data",
     "data": {
      "text/plain": [
       "<Figure size 432x288 with 1 Axes>"
      ],
      "image/png": "[encoded data removed]"
     },
     "metadata": {
      "needs_background": "light"
     }
    }
   ],
   "metadata": {}
  }
 ],
 "metadata": {
  "orig_nbformat": 4,
  "language_info": {
   "name": "python",
   "version": "3.8.10",
   "mimetype": "text/x-python",
   "codemirror_mode": {
    "name": "ipython",
    "version": 3
   },
   "pygments_lexer": "ipython3",
   "nbconvert_exporter": "python",
   "file_extension": ".py"
  },
  "kernelspec": {
   "name": "python3",
   "display_name": "Python 3.8.10 64-bit ('chess-board-xPg6VlEb-py3.8': poetry)"
  },
  "interpreter": {
   "hash": "03b88265943a55c344dbcefa7bf8f5c496a705874f24a62a11682f0205f8f72b"
  }
 },
 "nbformat": 4,
 "nbformat_minor": 2
}